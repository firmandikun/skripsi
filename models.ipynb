{
 "cells": [
  {
   "cell_type": "markdown",
   "source": "# **Import Dataset**",
   "metadata": {
    "id": "0X5bWoksvLpO",
    "cell_id": "2be0686c-813e-43f2-bc4a-5bf5c5918c76",
    "deepnote_cell_type": "markdown",
    "deepnote_cell_height": 82
   }
  },
  {
   "cell_type": "code",
   "metadata": {
    "id": "_9FWvv6JvAzW",
    "cell_id": "00001-ae837ea4-f229-4a2a-abf1-3fa9fc8e8ada",
    "deepnote_to_be_reexecuted": false,
    "source_hash": "c76c7c51",
    "execution_start": 1658887994814,
    "execution_millis": 1,
    "deepnote_cell_type": "code",
    "deepnote_cell_height": 99
   },
   "source": "import pandas as pd\nimport numpy as np",
   "execution_count": null,
   "outputs": []
  },
  {
   "cell_type": "code",
   "metadata": {
    "id": "f3FitbA8vi9B",
    "cell_id": "00002-1d11ffd8-662a-4720-8c75-81cb94e4602d",
    "deepnote_to_be_reexecuted": false,
    "source_hash": "17e3dbca",
    "execution_start": 1658887994815,
    "execution_millis": 1,
    "deepnote_cell_type": "code",
    "deepnote_cell_height": 99
   },
   "source": "import warnings\nwarnings.filterwarnings('ignore')",
   "execution_count": null,
   "outputs": []
  },
  {
   "cell_type": "code",
   "metadata": {
    "colab": {
     "base_uri": "https://localhost:8080/",
     "height": 206
    },
    "id": "ViHVagdpvLP-",
    "outputId": "9a1e0544-9c8c-4742-829f-95ab0655452c",
    "cell_id": "00003-4751c734-18ef-4137-ba49-e7d4c458f2ec",
    "deepnote_to_be_reexecuted": false,
    "source_hash": "200ca43c",
    "execution_start": 1658887994817,
    "execution_millis": 458,
    "deepnote_cell_type": "code",
    "deepnote_cell_height": 413,
    "deepnote_output_heights": [
     177
    ]
   },
   "source": "df = pd.read_excel('data tweet1a.xlsx')\ndf.head()",
   "execution_count": null,
   "outputs": [
    {
     "output_type": "execute_result",
     "execution_count": 3,
     "data": {
      "application/vnd.deepnote.dataframe.v3+json": {
       "column_count": 2,
       "row_count": 5,
       "columns": [
        {
         "name": "sentimen",
         "dtype": "int64",
         "stats": {
          "unique_count": 3,
          "nan_count": 0,
          "min": "0",
          "max": "2",
          "histogram": [
           {
            "bin_start": 0,
            "bin_end": 0.2,
            "count": 1
           },
           {
            "bin_start": 0.2,
            "bin_end": 0.4,
            "count": 0
           },
           {
            "bin_start": 0.4,
            "bin_end": 0.6000000000000001,
            "count": 0
           },
           {
            "bin_start": 0.6000000000000001,
            "bin_end": 0.8,
            "count": 0
           },
           {
            "bin_start": 0.8,
            "bin_end": 1,
            "count": 0
           },
           {
            "bin_start": 1,
            "bin_end": 1.2000000000000002,
            "count": 2
           },
           {
            "bin_start": 1.2000000000000002,
            "bin_end": 1.4000000000000001,
            "count": 0
           },
           {
            "bin_start": 1.4000000000000001,
            "bin_end": 1.6,
            "count": 0
           },
           {
            "bin_start": 1.6,
            "bin_end": 1.8,
            "count": 0
           },
           {
            "bin_start": 1.8,
            "bin_end": 2,
            "count": 2
           }
          ]
         }
        },
        {
         "name": "Tweet",
         "dtype": "object",
         "stats": {
          "unique_count": 5,
          "nan_count": 0,
          "categories": [
           {
            "name": "Setelah sekian lama covid mlanda negri ini.. Saya jd teringan sebuah film. Tpi sayangnya lupa jdulnya. Intinya ddlam alur cerita film tersebut menggunakan sabun untuk menyebar penyakit/ wabah di suatu negara. Barang kali ad yang tau judulnya. Jd pgn liat lg??",
            "count": 1
           },
           {
            "name": "Pemerintah sudah berusaha semaksimal mungkin memutus mata rantai virus bahkan sampai geram menangani pandemi ini...Tinggal kitanya sebagai masyarakat mari kita bantu pemerintah kita. Jangan saling menyalahkan! Dimulai dari diri kita sendiri jaga kesehatan??",
            "count": 1
           },
           {
            "name": "3 others",
            "count": 3
           }
          ]
         }
        },
        {
         "name": "_deepnote_index_column",
         "dtype": "int64"
        }
       ],
       "rows": [
        {
         "sentimen": 2,
         "Tweet": "Setelah sekian lama covid mlanda negri ini.. Saya jd teringan sebuah film. Tpi sayangnya lupa jdulnya. Intinya ddlam alur cerita film tersebut menggunakan sabun untuk menyebar penyakit/ wabah di suatu negara. Barang kali ad yang tau judulnya. Jd pgn liat lg??",
         "_deepnote_index_column": 0
        },
        {
         "sentimen": 1,
         "Tweet": "Pemerintah sudah berusaha semaksimal mungkin memutus mata rantai virus bahkan sampai geram menangani pandemi ini...Tinggal kitanya sebagai masyarakat mari kita bantu pemerintah kita. Jangan saling menyalahkan! Dimulai dari diri kita sendiri jaga kesehatan??",
         "_deepnote_index_column": 1
        },
        {
         "sentimen": 0,
         "Tweet": "Hari senin kemaren sy harus kehilangan adik sy...dr subuh muter2 bbrp rmh sakit penuh semua..harapan terakhir di rmh sakit polri datang jam 11..sembari cari oksigen..kerena yg terpasang habis....jam setengah 4 sore br dapet oksigen...namun Alloh berkehendak laen...adik sy meninggal di dalam mobil...smoga menjadi perhatian untuk kita semua...khusus nya dinas kesehatan...dan kondisi ini menimpa banyak orang",
         "_deepnote_index_column": 2
        },
        {
         "sentimen": 2,
         "Tweet": "Tentang vaksin  vaksin itu hanya untuk daya tahan tubuh bukan pencegahan   yang terjadi dengan masalah di vaksin jadi sakit atau ada kendala yg lain nya  saat di skrining atau di periksa mereka tidak berkata sejujur jujur nya  misal dia punga diabet tidak bilang ya jelas akan jadi kendala  atau dia punya asma jelas akan jadi masalah  sebelum di faksin itu harus mengisi format yang harus di tandatangani oleh orang yang mau di vaksin",
         "_deepnote_index_column": 3
        },
        {
         "sentimen": 1,
         "Tweet": "Ayo sama sama kita wujudkan program vaksinasi pemerintah agar tepat sasaran sesuai yg telah direncanakan.. Lihat tuh sasaran vakasinasi untuk lansia masih sangat jauh Yang merasa masih muda dan sehat stop latahan pengen buru buru di vaksin kasihan para lansia kita..dari target MALU WOOII",
         "_deepnote_index_column": 4
        }
       ]
      },
      "text/plain": "   sentimen                                              Tweet\n0         2  Setelah sekian lama covid mlanda negri ini.. S...\n1         1  Pemerintah sudah berusaha semaksimal mungkin m...\n2         0  Hari senin kemaren sy harus kehilangan adik sy...\n3         2  Tentang vaksin  vaksin itu hanya untuk daya ta...\n4         1  Ayo sama sama kita wujudkan program vaksinasi ...",
      "text/html": "<div>\n<style scoped>\n    .dataframe tbody tr th:only-of-type {\n        vertical-align: middle;\n    }\n\n    .dataframe tbody tr th {\n        vertical-align: top;\n    }\n\n    .dataframe thead th {\n        text-align: right;\n    }\n</style>\n<table border=\"1\" class=\"dataframe\">\n  <thead>\n    <tr style=\"text-align: right;\">\n      <th></th>\n      <th>sentimen</th>\n      <th>Tweet</th>\n    </tr>\n  </thead>\n  <tbody>\n    <tr>\n      <th>0</th>\n      <td>2</td>\n      <td>Setelah sekian lama covid mlanda negri ini.. S...</td>\n    </tr>\n    <tr>\n      <th>1</th>\n      <td>1</td>\n      <td>Pemerintah sudah berusaha semaksimal mungkin m...</td>\n    </tr>\n    <tr>\n      <th>2</th>\n      <td>0</td>\n      <td>Hari senin kemaren sy harus kehilangan adik sy...</td>\n    </tr>\n    <tr>\n      <th>3</th>\n      <td>2</td>\n      <td>Tentang vaksin  vaksin itu hanya untuk daya ta...</td>\n    </tr>\n    <tr>\n      <th>4</th>\n      <td>1</td>\n      <td>Ayo sama sama kita wujudkan program vaksinasi ...</td>\n    </tr>\n  </tbody>\n</table>\n</div>"
     },
     "metadata": {}
    }
   ]
  },
  {
   "cell_type": "markdown",
   "source": "# **Data Preprocessing**",
   "metadata": {
    "id": "FlYgCf3Uwjcp",
    "cell_id": "00004-4bcddffb-533c-4555-b567-aa8cabdb754e",
    "deepnote_cell_type": "markdown",
    "deepnote_cell_height": 82
   }
  },
  {
   "cell_type": "markdown",
   "source": "## Check Data Types",
   "metadata": {
    "id": "wEPVaMoTwmPk",
    "cell_id": "00005-f6b8e0ba-92ce-45c6-9371-54e0fef13100",
    "deepnote_cell_type": "markdown",
    "deepnote_cell_height": 70
   }
  },
  {
   "cell_type": "code",
   "metadata": {
    "colab": {
     "base_uri": "https://localhost:8080/"
    },
    "id": "zfumUuApvmbl",
    "outputId": "db1374cc-8c9a-4108-ccb2-d6c09c78a7d3",
    "cell_id": "00006-28ebe1c2-acef-479f-af50-e4a7aded140e",
    "deepnote_to_be_reexecuted": false,
    "source_hash": "52430027",
    "execution_start": 1658887995242,
    "execution_millis": 34,
    "deepnote_cell_type": "code",
    "deepnote_cell_height": 156.578125,
    "deepnote_output_heights": [
     59.59375
    ]
   },
   "source": "df.dtypes",
   "execution_count": null,
   "outputs": [
    {
     "output_type": "execute_result",
     "execution_count": 4,
     "data": {
      "text/plain": "sentimen     int64\nTweet       object\ndtype: object"
     },
     "metadata": {}
    }
   ]
  },
  {
   "cell_type": "code",
   "metadata": {
    "id": "uuTpV1c6wpLE",
    "cell_id": "00007-c1d64312-67c2-4c45-be97-7778a9354608",
    "deepnote_to_be_reexecuted": false,
    "source_hash": "9553b6ca",
    "execution_start": 1658887995243,
    "execution_millis": 0,
    "deepnote_cell_type": "code",
    "deepnote_cell_height": 81
   },
   "source": "df['sentimen'] = df['sentimen'].astype('category')",
   "execution_count": null,
   "outputs": []
  },
  {
   "cell_type": "markdown",
   "source": "## Check Missing Values",
   "metadata": {
    "id": "xYfC63KkwtsM",
    "cell_id": "00008-2c2c1766-76a6-4503-9895-669cd4cb12d5",
    "deepnote_cell_type": "markdown",
    "deepnote_cell_height": 70
   }
  },
  {
   "cell_type": "code",
   "metadata": {
    "colab": {
     "base_uri": "https://localhost:8080/"
    },
    "id": "r9tkntQtwvhr",
    "outputId": "54bd71ad-9512-4010-bb0f-3423c9bab76a",
    "cell_id": "00009-7ac3de39-b452-4d0a-b5b6-d150dca407b2",
    "deepnote_to_be_reexecuted": false,
    "source_hash": "f3dd26da",
    "execution_start": 1658887995243,
    "execution_millis": 33,
    "deepnote_cell_type": "code",
    "deepnote_cell_height": 156.578125,
    "deepnote_output_heights": [
     59.59375
    ]
   },
   "source": "df.isnull().sum()",
   "execution_count": null,
   "outputs": [
    {
     "output_type": "execute_result",
     "execution_count": 6,
     "data": {
      "text/plain": "sentimen    0\nTweet       0\ndtype: int64"
     },
     "metadata": {}
    }
   ]
  },
  {
   "cell_type": "markdown",
   "source": "# **Text Preprocessing**",
   "metadata": {
    "id": "SjbuOWqnw5j8",
    "cell_id": "00010-e6536fe3-0595-432d-8b57-c6ac5ef5958d",
    "deepnote_cell_type": "markdown",
    "deepnote_cell_height": 82
   }
  },
  {
   "cell_type": "markdown",
   "source": "## Case Folding",
   "metadata": {
    "id": "ZuRZwA4gw8Ww",
    "cell_id": "00011-24944b5f-d32d-4f87-965f-a04521afabf8",
    "deepnote_cell_type": "markdown",
    "deepnote_cell_height": 70
   }
  },
  {
   "cell_type": "code",
   "metadata": {
    "colab": {
     "base_uri": "https://localhost:8080/",
     "height": 206
    },
    "id": "wtq0i9Ilw9yB",
    "outputId": "5e3fedac-413c-4435-b246-cadce52ea987",
    "cell_id": "00012-a577c1c6-fbf3-4516-8949-9bda4c6fcd5b",
    "deepnote_to_be_reexecuted": false,
    "source_hash": "b67bf7f8",
    "execution_start": 1658887995244,
    "execution_millis": 32,
    "deepnote_cell_type": "code",
    "deepnote_cell_height": 413,
    "deepnote_output_heights": [
     177
    ]
   },
   "source": "df['Tweet'] = df['Tweet'].str.lower()\ndf.head()",
   "execution_count": null,
   "outputs": [
    {
     "output_type": "execute_result",
     "execution_count": 7,
     "data": {
      "application/vnd.deepnote.dataframe.v3+json": {
       "column_count": 2,
       "row_count": 5,
       "columns": [
        {
         "name": "sentimen",
         "dtype": "category",
         "stats": {
          "unique_count": 3,
          "nan_count": 0,
          "categories": [
           {
            "name": "2",
            "count": 2
           },
           {
            "name": "1",
            "count": 2
           },
           {
            "name": "0",
            "count": 1
           }
          ]
         }
        },
        {
         "name": "Tweet",
         "dtype": "object",
         "stats": {
          "unique_count": 5,
          "nan_count": 0,
          "categories": [
           {
            "name": "setelah sekian lama covid mlanda negri ini.. saya jd teringan sebuah film. tpi sayangnya lupa jdulnya. intinya ddlam alur cerita film tersebut menggunakan sabun untuk menyebar penyakit/ wabah di suatu negara. barang kali ad yang tau judulnya. jd pgn liat lg??",
            "count": 1
           },
           {
            "name": "pemerintah sudah berusaha semaksimal mungkin memutus mata rantai virus bahkan sampai geram menangani pandemi ini...tinggal kitanya sebagai masyarakat mari kita bantu pemerintah kita. jangan saling menyalahkan! dimulai dari diri kita sendiri jaga kesehatan??",
            "count": 1
           },
           {
            "name": "3 others",
            "count": 3
           }
          ]
         }
        },
        {
         "name": "_deepnote_index_column",
         "dtype": "int64"
        }
       ],
       "rows": [
        {
         "sentimen": 2,
         "Tweet": "setelah sekian lama covid mlanda negri ini.. saya jd teringan sebuah film. tpi sayangnya lupa jdulnya. intinya ddlam alur cerita film tersebut menggunakan sabun untuk menyebar penyakit/ wabah di suatu negara. barang kali ad yang tau judulnya. jd pgn liat lg??",
         "_deepnote_index_column": 0
        },
        {
         "sentimen": 1,
         "Tweet": "pemerintah sudah berusaha semaksimal mungkin memutus mata rantai virus bahkan sampai geram menangani pandemi ini...tinggal kitanya sebagai masyarakat mari kita bantu pemerintah kita. jangan saling menyalahkan! dimulai dari diri kita sendiri jaga kesehatan??",
         "_deepnote_index_column": 1
        },
        {
         "sentimen": 0,
         "Tweet": "hari senin kemaren sy harus kehilangan adik sy...dr subuh muter2 bbrp rmh sakit penuh semua..harapan terakhir di rmh sakit polri datang jam 11..sembari cari oksigen..kerena yg terpasang habis....jam setengah 4 sore br dapet oksigen...namun alloh berkehendak laen...adik sy meninggal di dalam mobil...smoga menjadi perhatian untuk kita semua...khusus nya dinas kesehatan...dan kondisi ini menimpa banyak orang",
         "_deepnote_index_column": 2
        },
        {
         "sentimen": 2,
         "Tweet": "tentang vaksin  vaksin itu hanya untuk daya tahan tubuh bukan pencegahan   yang terjadi dengan masalah di vaksin jadi sakit atau ada kendala yg lain nya  saat di skrining atau di periksa mereka tidak berkata sejujur jujur nya  misal dia punga diabet tidak bilang ya jelas akan jadi kendala  atau dia punya asma jelas akan jadi masalah  sebelum di faksin itu harus mengisi format yang harus di tandatangani oleh orang yang mau di vaksin",
         "_deepnote_index_column": 3
        },
        {
         "sentimen": 1,
         "Tweet": "ayo sama sama kita wujudkan program vaksinasi pemerintah agar tepat sasaran sesuai yg telah direncanakan.. lihat tuh sasaran vakasinasi untuk lansia masih sangat jauh yang merasa masih muda dan sehat stop latahan pengen buru buru di vaksin kasihan para lansia kita..dari target malu wooii",
         "_deepnote_index_column": 4
        }
       ]
      },
      "text/plain": "  sentimen                                              Tweet\n0        2  setelah sekian lama covid mlanda negri ini.. s...\n1        1  pemerintah sudah berusaha semaksimal mungkin m...\n2        0  hari senin kemaren sy harus kehilangan adik sy...\n3        2  tentang vaksin  vaksin itu hanya untuk daya ta...\n4        1  ayo sama sama kita wujudkan program vaksinasi ...",
      "text/html": "<div>\n<style scoped>\n    .dataframe tbody tr th:only-of-type {\n        vertical-align: middle;\n    }\n\n    .dataframe tbody tr th {\n        vertical-align: top;\n    }\n\n    .dataframe thead th {\n        text-align: right;\n    }\n</style>\n<table border=\"1\" class=\"dataframe\">\n  <thead>\n    <tr style=\"text-align: right;\">\n      <th></th>\n      <th>sentimen</th>\n      <th>Tweet</th>\n    </tr>\n  </thead>\n  <tbody>\n    <tr>\n      <th>0</th>\n      <td>2</td>\n      <td>setelah sekian lama covid mlanda negri ini.. s...</td>\n    </tr>\n    <tr>\n      <th>1</th>\n      <td>1</td>\n      <td>pemerintah sudah berusaha semaksimal mungkin m...</td>\n    </tr>\n    <tr>\n      <th>2</th>\n      <td>0</td>\n      <td>hari senin kemaren sy harus kehilangan adik sy...</td>\n    </tr>\n    <tr>\n      <th>3</th>\n      <td>2</td>\n      <td>tentang vaksin  vaksin itu hanya untuk daya ta...</td>\n    </tr>\n    <tr>\n      <th>4</th>\n      <td>1</td>\n      <td>ayo sama sama kita wujudkan program vaksinasi ...</td>\n    </tr>\n  </tbody>\n</table>\n</div>"
     },
     "metadata": {}
    }
   ]
  },
  {
   "cell_type": "markdown",
   "source": "## Text Cleaning",
   "metadata": {
    "id": "Q0xgyalYxGZH",
    "cell_id": "00013-cb613390-861e-450b-b9b4-1eac151f90d4",
    "deepnote_cell_type": "markdown",
    "deepnote_cell_height": 70
   }
  },
  {
   "cell_type": "code",
   "metadata": {
    "colab": {
     "base_uri": "https://localhost:8080/",
     "height": 206
    },
    "id": "6ElIYUAQxAxU",
    "outputId": "2bfef475-c459-487e-c32d-951b553c4307",
    "cell_id": "00014-b148ce8d-a7ce-4dea-81f0-8ca8dbe42f8e",
    "deepnote_to_be_reexecuted": false,
    "source_hash": "7cd751af",
    "execution_start": 1658887995245,
    "execution_millis": 36,
    "deepnote_cell_type": "code",
    "deepnote_cell_height": 575,
    "deepnote_output_heights": [
     177
    ]
   },
   "source": "import re\nimport string\n\ndef remove(text):\n  text = text.replace('\\\\t', ' ').replace('\\\\n', ' ').replace('\\\\u', ' ').replace('\\\\', ' ')\n  text = text.encode('ascii', 'replace').decode('ascii')\n  text = ' '.join(re.sub(\"([@#][A-Za-z0-9]+)|(\\w+:\\/\\/\\S+)\", ' ', text).split())\n  return text.replace('http://', ' ').replace('https://', ' ')\n\ndf['Tweet'] = df['Tweet'].apply(remove)\ndf.head()",
   "execution_count": null,
   "outputs": [
    {
     "output_type": "execute_result",
     "execution_count": 8,
     "data": {
      "application/vnd.deepnote.dataframe.v3+json": {
       "column_count": 2,
       "row_count": 5,
       "columns": [
        {
         "name": "sentimen",
         "dtype": "category",
         "stats": {
          "unique_count": 3,
          "nan_count": 0,
          "categories": [
           {
            "name": "2",
            "count": 2
           },
           {
            "name": "1",
            "count": 2
           },
           {
            "name": "0",
            "count": 1
           }
          ]
         }
        },
        {
         "name": "Tweet",
         "dtype": "object",
         "stats": {
          "unique_count": 5,
          "nan_count": 0,
          "categories": [
           {
            "name": "setelah sekian lama covid mlanda negri ini.. saya jd teringan sebuah film. tpi sayangnya lupa jdulnya. intinya ddlam alur cerita film tersebut menggunakan sabun untuk menyebar penyakit/ wabah di suatu negara. barang kali ad yang tau judulnya. jd pgn liat lg??",
            "count": 1
           },
           {
            "name": "pemerintah sudah berusaha semaksimal mungkin memutus mata rantai virus bahkan sampai geram menangani pandemi ini...tinggal kitanya sebagai masyarakat mari kita bantu pemerintah kita. jangan saling menyalahkan! dimulai dari diri kita sendiri jaga kesehatan??",
            "count": 1
           },
           {
            "name": "3 others",
            "count": 3
           }
          ]
         }
        },
        {
         "name": "_deepnote_index_column",
         "dtype": "int64"
        }
       ],
       "rows": [
        {
         "sentimen": 2,
         "Tweet": "setelah sekian lama covid mlanda negri ini.. saya jd teringan sebuah film. tpi sayangnya lupa jdulnya. intinya ddlam alur cerita film tersebut menggunakan sabun untuk menyebar penyakit/ wabah di suatu negara. barang kali ad yang tau judulnya. jd pgn liat lg??",
         "_deepnote_index_column": 0
        },
        {
         "sentimen": 1,
         "Tweet": "pemerintah sudah berusaha semaksimal mungkin memutus mata rantai virus bahkan sampai geram menangani pandemi ini...tinggal kitanya sebagai masyarakat mari kita bantu pemerintah kita. jangan saling menyalahkan! dimulai dari diri kita sendiri jaga kesehatan??",
         "_deepnote_index_column": 1
        },
        {
         "sentimen": 0,
         "Tweet": "hari senin kemaren sy harus kehilangan adik sy...dr subuh muter2 bbrp rmh sakit penuh semua..harapan terakhir di rmh sakit polri datang jam 11..sembari cari oksigen..kerena yg terpasang habis....jam setengah 4 sore br dapet oksigen...namun alloh berkehendak laen...adik sy meninggal di dalam mobil...smoga menjadi perhatian untuk kita semua...khusus nya dinas kesehatan...dan kondisi ini menimpa banyak orang",
         "_deepnote_index_column": 2
        },
        {
         "sentimen": 2,
         "Tweet": "tentang vaksin vaksin itu hanya untuk daya tahan tubuh bukan pencegahan yang terjadi dengan masalah di vaksin jadi sakit atau ada kendala yg lain nya saat di skrining atau di periksa mereka tidak berkata sejujur jujur nya misal dia punga diabet tidak bilang ya jelas akan jadi kendala atau dia punya asma jelas akan jadi masalah sebelum di faksin itu harus mengisi format yang harus di tandatangani oleh orang yang mau di vaksin",
         "_deepnote_index_column": 3
        },
        {
         "sentimen": 1,
         "Tweet": "ayo sama sama kita wujudkan program vaksinasi pemerintah agar tepat sasaran sesuai yg telah direncanakan.. lihat tuh sasaran vakasinasi untuk lansia masih sangat jauh yang merasa masih muda dan sehat stop latahan pengen buru buru di vaksin kasihan para lansia kita..dari target malu wooii",
         "_deepnote_index_column": 4
        }
       ]
      },
      "text/plain": "  sentimen                                              Tweet\n0        2  setelah sekian lama covid mlanda negri ini.. s...\n1        1  pemerintah sudah berusaha semaksimal mungkin m...\n2        0  hari senin kemaren sy harus kehilangan adik sy...\n3        2  tentang vaksin vaksin itu hanya untuk daya tah...\n4        1  ayo sama sama kita wujudkan program vaksinasi ...",
      "text/html": "<div>\n<style scoped>\n    .dataframe tbody tr th:only-of-type {\n        vertical-align: middle;\n    }\n\n    .dataframe tbody tr th {\n        vertical-align: top;\n    }\n\n    .dataframe thead th {\n        text-align: right;\n    }\n</style>\n<table border=\"1\" class=\"dataframe\">\n  <thead>\n    <tr style=\"text-align: right;\">\n      <th></th>\n      <th>sentimen</th>\n      <th>Tweet</th>\n    </tr>\n  </thead>\n  <tbody>\n    <tr>\n      <th>0</th>\n      <td>2</td>\n      <td>setelah sekian lama covid mlanda negri ini.. s...</td>\n    </tr>\n    <tr>\n      <th>1</th>\n      <td>1</td>\n      <td>pemerintah sudah berusaha semaksimal mungkin m...</td>\n    </tr>\n    <tr>\n      <th>2</th>\n      <td>0</td>\n      <td>hari senin kemaren sy harus kehilangan adik sy...</td>\n    </tr>\n    <tr>\n      <th>3</th>\n      <td>2</td>\n      <td>tentang vaksin vaksin itu hanya untuk daya tah...</td>\n    </tr>\n    <tr>\n      <th>4</th>\n      <td>1</td>\n      <td>ayo sama sama kita wujudkan program vaksinasi ...</td>\n    </tr>\n  </tbody>\n</table>\n</div>"
     },
     "metadata": {}
    }
   ]
  },
  {
   "cell_type": "code",
   "metadata": {
    "colab": {
     "base_uri": "https://localhost:8080/",
     "height": 206
    },
    "id": "B1AIhu87xI_U",
    "outputId": "94ebc4c3-f447-4ff4-b0a8-89155e0c5e3b",
    "cell_id": "00015-00a9c431-7289-4890-b904-c7a3625de254",
    "deepnote_to_be_reexecuted": false,
    "source_hash": "b5770845",
    "execution_start": 1658887995294,
    "execution_millis": 70,
    "deepnote_cell_type": "code",
    "deepnote_cell_height": 845,
    "deepnote_output_heights": [
     177
    ]
   },
   "source": "def remove_number(text):\n  return re.sub(r'\\d+', '', text)\n\ndf['Tweet'] = df['Tweet'].apply(remove_number)\n\ndef remove_punc(text):\n  return text.translate(str.maketrans('','',string.punctuation))\n\ndf['Tweet'] = df['Tweet'].apply(remove_punc)\n\ndef remove_whitespace(text):\n  return text.strip()\n\ndf['Tweet'] = df['Tweet'].apply(remove_whitespace)\n\ndef remove_whitespace_multi(text):\n  return re.sub('\\s+', ' ', text)\n\ndf['Tweet'] = df['Tweet'].apply(remove_whitespace_multi)\n\ndef remove_single_char(text):\n  return re.sub(r'\\b[a-zA-Z]\\b', '', text)\n\ndf['Tweet'] = df['Tweet'].apply(remove_single_char)\n\ndf.head()",
   "execution_count": null,
   "outputs": [
    {
     "output_type": "execute_result",
     "execution_count": 9,
     "data": {
      "application/vnd.deepnote.dataframe.v3+json": {
       "column_count": 2,
       "row_count": 5,
       "columns": [
        {
         "name": "sentimen",
         "dtype": "category",
         "stats": {
          "unique_count": 3,
          "nan_count": 0,
          "categories": [
           {
            "name": "2",
            "count": 2
           },
           {
            "name": "1",
            "count": 2
           },
           {
            "name": "0",
            "count": 1
           }
          ]
         }
        },
        {
         "name": "Tweet",
         "dtype": "object",
         "stats": {
          "unique_count": 5,
          "nan_count": 0,
          "categories": [
           {
            "name": "setelah sekian lama covid mlanda negri ini saya jd teringan sebuah film tpi sayangnya lupa jdulnya intinya ddlam alur cerita film tersebut menggunakan sabun untuk menyebar penyakit wabah di suatu negara barang kali ad yang tau judulnya jd pgn liat lg",
            "count": 1
           },
           {
            "name": "pemerintah sudah berusaha semaksimal mungkin memutus mata rantai virus bahkan sampai geram menangani pandemi initinggal kitanya sebagai masyarakat mari kita bantu pemerintah kita jangan saling menyalahkan dimulai dari diri kita sendiri jaga kesehatan",
            "count": 1
           },
           {
            "name": "3 others",
            "count": 3
           }
          ]
         }
        },
        {
         "name": "_deepnote_index_column",
         "dtype": "int64"
        }
       ],
       "rows": [
        {
         "sentimen": 2,
         "Tweet": "setelah sekian lama covid mlanda negri ini saya jd teringan sebuah film tpi sayangnya lupa jdulnya intinya ddlam alur cerita film tersebut menggunakan sabun untuk menyebar penyakit wabah di suatu negara barang kali ad yang tau judulnya jd pgn liat lg",
         "_deepnote_index_column": 0
        },
        {
         "sentimen": 1,
         "Tweet": "pemerintah sudah berusaha semaksimal mungkin memutus mata rantai virus bahkan sampai geram menangani pandemi initinggal kitanya sebagai masyarakat mari kita bantu pemerintah kita jangan saling menyalahkan dimulai dari diri kita sendiri jaga kesehatan",
         "_deepnote_index_column": 1
        },
        {
         "sentimen": 0,
         "Tweet": "hari senin kemaren sy harus kehilangan adik sydr subuh muter bbrp rmh sakit penuh semuaharapan terakhir di rmh sakit polri datang jam sembari cari oksigenkerena yg terpasang habisjam setengah sore br dapet oksigennamun alloh berkehendak laenadik sy meninggal di dalam mobilsmoga menjadi perhatian untuk kita semuakhusus nya dinas kesehatandan kondisi ini menimpa banyak orang",
         "_deepnote_index_column": 2
        },
        {
         "sentimen": 2,
         "Tweet": "tentang vaksin vaksin itu hanya untuk daya tahan tubuh bukan pencegahan yang terjadi dengan masalah di vaksin jadi sakit atau ada kendala yg lain nya saat di skrining atau di periksa mereka tidak berkata sejujur jujur nya misal dia punga diabet tidak bilang ya jelas akan jadi kendala atau dia punya asma jelas akan jadi masalah sebelum di faksin itu harus mengisi format yang harus di tandatangani oleh orang yang mau di vaksin",
         "_deepnote_index_column": 3
        },
        {
         "sentimen": 1,
         "Tweet": "ayo sama sama kita wujudkan program vaksinasi pemerintah agar tepat sasaran sesuai yg telah direncanakan lihat tuh sasaran vakasinasi untuk lansia masih sangat jauh yang merasa masih muda dan sehat stop latahan pengen buru buru di vaksin kasihan para lansia kitadari target malu wooii",
         "_deepnote_index_column": 4
        }
       ]
      },
      "text/plain": "  sentimen                                              Tweet\n0        2  setelah sekian lama covid mlanda negri ini say...\n1        1  pemerintah sudah berusaha semaksimal mungkin m...\n2        0  hari senin kemaren sy harus kehilangan adik sy...\n3        2  tentang vaksin vaksin itu hanya untuk daya tah...\n4        1  ayo sama sama kita wujudkan program vaksinasi ...",
      "text/html": "<div>\n<style scoped>\n    .dataframe tbody tr th:only-of-type {\n        vertical-align: middle;\n    }\n\n    .dataframe tbody tr th {\n        vertical-align: top;\n    }\n\n    .dataframe thead th {\n        text-align: right;\n    }\n</style>\n<table border=\"1\" class=\"dataframe\">\n  <thead>\n    <tr style=\"text-align: right;\">\n      <th></th>\n      <th>sentimen</th>\n      <th>Tweet</th>\n    </tr>\n  </thead>\n  <tbody>\n    <tr>\n      <th>0</th>\n      <td>2</td>\n      <td>setelah sekian lama covid mlanda negri ini say...</td>\n    </tr>\n    <tr>\n      <th>1</th>\n      <td>1</td>\n      <td>pemerintah sudah berusaha semaksimal mungkin m...</td>\n    </tr>\n    <tr>\n      <th>2</th>\n      <td>0</td>\n      <td>hari senin kemaren sy harus kehilangan adik sy...</td>\n    </tr>\n    <tr>\n      <th>3</th>\n      <td>2</td>\n      <td>tentang vaksin vaksin itu hanya untuk daya tah...</td>\n    </tr>\n    <tr>\n      <th>4</th>\n      <td>1</td>\n      <td>ayo sama sama kita wujudkan program vaksinasi ...</td>\n    </tr>\n  </tbody>\n</table>\n</div>"
     },
     "metadata": {}
    }
   ]
  },
  {
   "cell_type": "markdown",
   "source": "## Tokenizing",
   "metadata": {
    "id": "wXz4oYVQxT3Z",
    "cell_id": "00016-b25d5f17-6372-49d7-8984-7e9bdbf28d65",
    "deepnote_cell_type": "markdown",
    "deepnote_cell_height": 70
   }
  },
  {
   "cell_type": "code",
   "metadata": {
    "colab": {
     "base_uri": "https://localhost:8080/"
    },
    "id": "Rej2G0NMxRwW",
    "outputId": "e6c80065-e4b5-417c-a35e-252ac8bb04c2",
    "cell_id": "00017-dee3044a-f474-4c05-a51c-c8865cd2a049",
    "deepnote_to_be_reexecuted": false,
    "source_hash": "b2ada353",
    "execution_start": 1658887995361,
    "execution_millis": 2307,
    "deepnote_cell_type": "code",
    "deepnote_cell_height": 202.1875,
    "deepnote_output_heights": [
     null,
     21.1875
    ]
   },
   "source": "import nltk\nnltk.download('punkt')",
   "execution_count": null,
   "outputs": [
    {
     "name": "stderr",
     "text": "[nltk_data] Downloading package punkt to /root/nltk_data...\n[nltk_data]   Unzipping tokenizers/punkt.zip.\n",
     "output_type": "stream"
    },
    {
     "output_type": "execute_result",
     "execution_count": 10,
     "data": {
      "text/plain": "True"
     },
     "metadata": {}
    }
   ]
  },
  {
   "cell_type": "code",
   "metadata": {
    "colab": {
     "base_uri": "https://localhost:8080/"
    },
    "id": "XD3TTb1AxVaL",
    "outputId": "957b6805-2be7-490b-f01d-85410064d88b",
    "cell_id": "00018-15e7560a-d1de-4bc4-8653-404e9bcf4ca1",
    "deepnote_to_be_reexecuted": false,
    "source_hash": "ecc5ad67",
    "execution_start": 1658887997668,
    "execution_millis": 377,
    "deepnote_cell_type": "code",
    "deepnote_cell_height": 386.1875,
    "deepnote_output_heights": [
     null,
     117.1875
    ]
   },
   "source": "from nltk.tokenize import word_tokenize\n\ndef word_tokenize_wrapper(text):\n  return word_tokenize(text)\n\ndf['Tweet'] = df['Tweet'].apply(word_tokenize_wrapper)\nprint('Hasil Tokenisasi : ') \ndf['Tweet'].head()",
   "execution_count": null,
   "outputs": [
    {
     "name": "stdout",
     "text": "Hasil Tokenisasi : \n",
     "output_type": "stream"
    },
    {
     "output_type": "execute_result",
     "execution_count": 11,
     "data": {
      "text/plain": "0    [setelah, sekian, lama, covid, mlanda, negri, ...\n1    [pemerintah, sudah, berusaha, semaksimal, mung...\n2    [hari, senin, kemaren, sy, harus, kehilangan, ...\n3    [tentang, vaksin, vaksin, itu, hanya, untuk, d...\n4    [ayo, sama, sama, kita, wujudkan, program, vak...\nName: Tweet, dtype: object"
     },
     "metadata": {}
    }
   ]
  },
  {
   "cell_type": "markdown",
   "source": "## Stopwords Removal",
   "metadata": {
    "id": "dZZRE0jlxdFh",
    "cell_id": "00019-ad39fd82-43d8-45a3-890d-6fe4037e76a4",
    "deepnote_cell_type": "markdown",
    "deepnote_cell_height": 70
   }
  },
  {
   "cell_type": "code",
   "metadata": {
    "colab": {
     "base_uri": "https://localhost:8080/"
    },
    "id": "l5xi93uHxWlu",
    "outputId": "3b6e7792-72b0-4439-c69e-28d6c7047ef0",
    "cell_id": "00020-67201554-282b-4ab1-82ac-e9714455d7d2",
    "deepnote_to_be_reexecuted": false,
    "source_hash": "d9c36a3d",
    "execution_start": 1658887998084,
    "execution_millis": 5,
    "deepnote_cell_type": "code",
    "deepnote_cell_height": 220.1875,
    "deepnote_output_heights": [
     null,
     21.1875
    ]
   },
   "source": "import nltk\nfrom nltk.corpus import stopwords\nnltk.download('stopwords')",
   "execution_count": null,
   "outputs": [
    {
     "name": "stderr",
     "text": "[nltk_data] Downloading package stopwords to /root/nltk_data...\n[nltk_data]   Unzipping corpora/stopwords.zip.\n",
     "output_type": "stream"
    },
    {
     "output_type": "execute_result",
     "execution_count": 12,
     "data": {
      "text/plain": "True"
     },
     "metadata": {}
    }
   ]
  },
  {
   "cell_type": "code",
   "metadata": {
    "id": "I7mYTkZoxe0k",
    "cell_id": "00021-196076e5-9ce1-4801-a92e-bdbe3968e6a4",
    "deepnote_to_be_reexecuted": false,
    "source_hash": "e255400",
    "execution_start": 1658887998086,
    "execution_millis": 0,
    "deepnote_cell_type": "code",
    "deepnote_cell_height": 99
   },
   "source": "list_stopwords = stopwords.words('indonesian')\nlist_stopwords = set(list_stopwords)",
   "execution_count": null,
   "outputs": []
  },
  {
   "cell_type": "code",
   "metadata": {
    "colab": {
     "base_uri": "https://localhost:8080/"
    },
    "id": "DyygO2B9d9-1",
    "outputId": "84f32cb3-5fe8-47e6-cdfd-c999db69fb6a",
    "cell_id": "00022-cf833da0-a877-485f-987f-048db19bdc6d",
    "deepnote_to_be_reexecuted": false,
    "source_hash": "e1755082",
    "execution_start": 1658887998086,
    "execution_millis": 1,
    "deepnote_cell_type": "code",
    "deepnote_cell_height": 116.796875
   },
   "source": "print(list_stopwords)",
   "execution_count": null,
   "outputs": [
    {
     "name": "stdout",
     "text": "{'sepihak', 'tandasnya', 'mampukah', 'berikutnya', 'ditunjukkan', 'menanyakan', 'begitupun', 'benar', 'tersebut', 'seharusnya', 'sampai-sampai', 'bisa', 'bagaimanakah', 'sampai', 'setinggi', 'cukupkah', 'jika', 'setidaknya', 'ditanyai', 'lah', 'dimisalkan', 'melainkan', 'cuma', 'soalnya', 'pertanyaan', 'ingin', 'tunjuk', 'sudahkah', 'bakalan', 'beginilah', 'menanti', 'bersama', 'wahai', 'terjadinya', 'nanti', 'rasanya', 'begitulah', 'dimaksudkannya', 'sebaik-baiknya', 'disini', 'sesudahnya', 'jadi', 'demikianlah', 'perlu', 'didapat', 'menuju', 'kalaulah', 'diucapkannya', 'apatah', 'bahwasanya', 'seorang', 'ungkapnya', 'manalagi', 'agak', 'inikah', 'segera', 'toh', 'selama-lamanya', 'bagai', 'sebuah', 'secara', 'tentu', 'lagi', 'berapa', 'diibaratkan', 'perlunya', 'sebagai', 'sekali-kali', 'memihak', 'ingat', 'semuanya', 'seingat', 'sebelum', 'juga', 'bolehlah', 'dimintai', 'turut', 'sampaikan', 'sebelumnya', 'di', 'sebisanya', 'malahan', 'jawabnya', 'antar', 'sebagian', 'mengenai', 'belakangan', 'kedua', 'dimulailah', 'tentunya', 'haruslah', 'malah', 'ibaratnya', 'terasa', 'karenanya', 'seperlunya', 'janganlah', 'diperkirakan', 'ibaratkan', 'kelima', 'sebutlah', 'sekadar', 'ditanyakan', 'atas', 'sekiranya', 'mengatakannya', 'bulan', 'mengapa', 'mengungkapkan', 'minta', 'kepada', 'sejauh', 'berturut-turut', 'tertuju', 'panjang', 'dikatakannya', 'masing', 'sehingga', 'diminta', 'sesudah', 'boleh', 'tetap', 'yang', 'diperlihatkan', 'tanyakan', 'terlalu', 'kira', 'walau', 'lama', 'seperti', 'ujar', 'menunjuki', 'menjawab', 'meskipun', 'seusai', 'ditunjuk', 'dituturkan', 'sedang', 'pertama-tama', 'olehnya', 'apabila', 'per', 'berkenaan', 'menuturkan', 'sangatlah', 'kepadanya', 'dipastikan', 'sebab', 'bukan', 'soal', 'berakhirlah', 'ditandaskan', 'tanyanya', 'tutur', 'menyatakan', 'kenapa', 'diberikan', 'seseorang', 'kan', 'memberi', 'mulailah', 'sekurangnya', 'siap', 'kelihatannya', 'ditunjukkannya', 'mereka', 'katakanlah', 'diinginkan', 'inginkah', 'menjelaskan', 'mula', 'padanya', 'ini', 'keinginan', 'diperbuatnya', 'jauh', 'siapapun', 'sedemikian', 'tambahnya', 'saya', 'ataukah', 'sebaik', 'menegaskan', 'menanyai', 'bung', 'bilakah', 'dibuatnya', 'tengah', 'mau', 'berikan', 'lewat', 'segala', 'bahwa', 'masa', 'setelah', 'berbagai', 'kalaupun', 'kamu', 'meminta', 'mampu', 'kitalah', 'sinilah', 'rata', 'ditanya', 'kami', 'sekecil', 'bawah', 'andalah', 'tambah', 'tiap', 'kebetulan', 'wah', 'jelaslah', 'akhiri', 'oleh', 'sering', 'dia', 'diantara', 'dilakukan', 'lanjut', 'ketika', 'terhadap', 'dijawab', 'sempat', 'dikatakan', 'empat', 'belumlah', 'mengibaratkannya', 'nyatanya', 'sebegitu', 'depan', 'diperlukan', 'keadaan', 'diibaratkannya', 'dulu', 'sebut', 'sekitarnya', 'dipergunakan', 'setidak-tidaknya', 'balik', 'kini', 'berlainan', 'semisalnya', 'lalu', 'sebetulnya', 'sebenarnya', 'umumnya', 'ataupun', 'terkira', 'diantaranya', 'diucapkan', 'yakin', 'tidaklah', 'tegasnya', 'sesaat', 'mempertanyakan', 'waktunya', 'pastilah', 'melakukan', 'cukup', 'mempersoalkan', 'menyampaikan', 'setibanya', 'selaku', 'pertama', 'jumlahnya', 'teringat', 'sangat', 'agaknya', 'nyaris', 'hendak', 'kemungkinan', 'bermacam-macam', 'diakhiri', 'itu', 'wong', 'dini', 'saling', 'mempunyai', 'yakni', 'terbanyak', 'jawab', 'mengerjakan', 'sejak', 'berupa', 'sayalah', 'bertanya', 'semacam', 'artinya', 'saatnya', 'biasa', 'rasa', 'jumlah', 'sama', 'benarlah', 'kembali', 'hal', 'waduh', 'dalam', 'keduanya', 'memintakan', 'bersiap-siap', 'dipertanyakan', 'lima', 'suatu', 'kasus', 'disebutkan', 'keterlaluan', 'memungkinkan', 'memperlihatkan', 'bakal', 'setiap', 'tak', 'lain', 'dijelaskannya', 'cukuplah', 'bermula', 'disinilah', 'antaranya', 'semisal', 'nah', 'sesuatunya', 'makin', 'berakhirnya', 'bolehkah', 'mengingat', 'dua', 'berturut', 'dimulainya', 'dahulu', 'ditunjuki', 'membuat', 'demikian', 'dimaksudkan', 'diberi', 'kamilah', 'lagian', 'lamanya', 'mirip', 'bersiap', 'melalui', 'sedangkan', 'dikira', 'makanya', 'kita', 'ibarat', 'terlebih', 'pula', 'katanya', 'disampaikan', 'tiba-tiba', 'dikarenakan', 'hanya', 'sejumlah', 'walaupun', 'bukankah', 'gunakan', 'terlihat', 'diingatkan', 'ke', 'mungkinkah', 'mempersiapkan', 'seluruh', 'sama-sama', 'tampaknya', 'perlukah', 'antara', 'menambahkan', 'semasih', 'akankah', 'seenaknya', 'tentulah', 'namun', 'sudahlah', 'bertutur', 'nantinya', 'sekadarnya', 'berapakah', 'semula', 'ia', 'luar', 'entahlah', 'bukanlah', 'seolah-olah', 'berlalu', 'selalu', 'belakang', 'begitu', 'menginginkan', 'merupakan', 'jelasnya', 'terdapat', 'mulanya', 'tentang', 'kalian', 'ditegaskan', 'terutama', 'adanya', 'disebut', 'sebaliknya', 'misal', 'memerlukan', 'pukul', 'sebagaimana', 'percuma', 'sebanyak', 'sewaktu', 'sekitar', 'padahal', 'apa', 'akhirnya', 'atau', 'awalnya', 'pernah', 'agar', 'sambil', 'sekarang', 'kurang', 'besar', 'semakin', 'menandaskan', 'dimaksud', 'pasti', 'bagi', 'seketika', 'mengira', 'menanya', 'jelas', 'sebesar', 'semata', 'diperlukannya', 'dimaksudnya', 'berikut', 'dengan', 'menyiapkan', 'sebaiknya', 'sebutnya', 'keluar', 'menyangkut', 'dapat', 'sini', 'tersebutlah', 'akan', 'tetapi', 'dijelaskan', 'keseluruhannya', 'terhadapnya', 'bahkan', 'semaunya', 'betulkah', 'dirinya', 'tanpa', 'asal', 'adapun', 'kecil', 'disebutkannya', 'setempat', 'jangankan', 'mengucapkannya', 'menghendaki', 'jadinya', 'pentingnya', 'bila', 'apakah', 'kapanpun', 'selain', 'kiranya', 'beberapa', 'macam', 'jadilah', 'berawal', 'dong', 'harusnya', 'pada', 'dari', 'beginian', 'hari', 'inilah', 'dibuat', 'mendatangi', 'datang', 'sendiri', 'sajalah', 'jelaskan', 'pertanyakan', 'selama', 'ujarnya', 'telah', 'umum', 'biasanya', 'menunjuk', 'pihak', 'bagaikan', 'menyeluruh', 'manakala', 'kapankah', 'ingat-ingat', 'sebagainya', 'siapa', 'berapapun', 'kalau', 'enggak', 'hendaklah', 'enggaknya', 'sendirian', 'sudah', 'bermacam', 'saat', 'tiba', 'amat', 'punya', 'akhir', 'tinggi', 'pihaknya', 'terdiri', 'semata-mata', 'menggunakan', 'ialah', 'hendaknya', 'terjadi', 'masihkah', 'se', 'beri', 'sedikitnya', 'untuk', 'baik', 'berkata', 'diketahuinya', 'maka', 'persoalan', 'mengucapkan', 'lanjutnya', 'beginikah', 'mungkin', 'kira-kira', 'supaya', 'justru', 'begitukah', 'bukannya', 'penting', 'caranya', 'entah', 'diperbuat', 'tandas', 'usah', 'sebegini', 'selanjutnya', 'dimulai', 'tanya', 'tahu', 'bisakah', 'berlebihan', 'meski', 'sebabnya', 'menunjuknya', 'terakhir', 'dialah', 'ibu', 'semua', 'berarti', 'berkeinginan', 'didatangkan', 'aku', 'ternyata', 'dimungkinkan', 'menaiki', 'pak', 'mana', 'berada', 'sepantasnyalah', 'lebih', 'semampunya', 'berakhir', 'masalahnya', 'baru', 'menurut', 'sejenak', 'melihat', 'sepanjang', 'jikalau', 'selamanya', 'dekat', 'meyakinkan', 'bagaimanapun', 'bapak', 'kapan', 'sela', 'kemudian', 'memastikan', 'mengetahui', 'meyakini', 'diungkapkan', 'sepantasnya', 'hanyalah', 'ucapnya', 'terjadilah', 'melihatnya', 'mempergunakan', 'tiga', 'dipersoalkan', 'sendirinya', 'memberikan', 'memperkirakan', 'seolah', 'seterusnya', 'tersampaikan', 'dipunyai', 'menyebutkan', 'usai', 'merasa', 'tepat', 'itukah', 'lainnya', 'kala', 'ada', 'apaan', 'tadi', 'mengatakan', 'dituturkannya', 'secukupnya', 'jangan', 'mengingatkan', 'hampir', 'memulai', 'tempat', 'waktu', 'ikut', 'inginkan', 'jawaban', 'mendapat', 'semampu', 'berkali-kali', 'memang', 'serupa', 'terus', 'sesampai', 'misalnya', 'mendatang', 'merekalah', 'harus', 'masing-masing', 'yaitu', 'amatlah', 'masih', 'kamulah', 'masalah', 'berdatangan', 'ditambahkan', 'memisalkan', 'mendapatkan', 'sekalian', 'benarkah', 'terdahulu', 'kinilah', 'diakhirinya', 'tapi', 'tahun', 'daripada', 'asalkan', 'kata', 'sedikit', 'sesuatu', 'diingat', 'dilalui', 'menantikan', 'dan', 'ucap', 'ditunjuknya', 'kemungkinannya', 'mulai', 'sekali', 'sekaligus', 'tidakkah', 'apalagi', 'serta', 'guna', 'begini', 'maupun', 'sekurang-kurangnya', 'tidak', 'banyak', 'memperbuat', 'cara', 'diri', 'sepertinya', 'tuturnya', 'segalanya', 'sesegera', 'siapakah', 'keseluruhan', 'sesama', 'tadinya', 'demi', 'semasa', 'berlangsung', 'bersama-sama', 'bekerja', 'sementara', 'menjadi', 'seringnya', 'kelihatan', 'diberikannya', 'hingga', 'tampak', 'anda', 'katakan', 'kesampaian', 'teringat-ingat', 'misalkan', 'berujar', 'bagian', 'digunakan', 'berkehendak', 'saja', 'tegas', 'mendatangkan', 'mengakhiri', 'buat', 'karena', 'bermaksud', 'termasuk', 'naik', 'seberapa', 'tertentu', 'paling', 'pantas', 'para', 'kelamaan', 'setengah', 'awal', 'berjumlah', 'diketahui', 'sekalipun', 'ungkap', 'mengibaratkan', 'satu', 'belum', 'akulah', 'dilihat', 'setiba', 'dikerjakan', 'sesekali', 'sana', 'kok', 'seluruhnya', 'menunjukkan', 'menanti-nanti', 'pun', 'itulah', 'rupanya', 'betul', 'berapalah', 'adalah', 'khususnya', 'bertanya-tanya', 'ditujukan', 'bagaimana'}\n",
     "output_type": "stream"
    }
   ]
  },
  {
   "cell_type": "code",
   "metadata": {
    "colab": {
     "base_uri": "https://localhost:8080/"
    },
    "id": "zUAr8hM2xgFN",
    "outputId": "975b01ea-14d7-4874-91ef-f2fd0cda4bbe",
    "cell_id": "00023-8eb0d432-fe20-4764-b6a0-1a75d11385b2",
    "deepnote_to_be_reexecuted": false,
    "source_hash": "27c1d997",
    "execution_start": 1658887998134,
    "execution_millis": 4,
    "deepnote_cell_type": "code",
    "deepnote_cell_height": 388.1875,
    "deepnote_output_heights": [
     null,
     117.1875
    ]
   },
   "source": "def remove_stopwords(words):\n  return [word for word in words if word not in list_stopwords]\n\ndf['Tweet'] = df['Tweet'].apply(remove_stopwords)\n\nprint('Hasil Stopwords : \\n')\ndf['Tweet'].head()",
   "execution_count": null,
   "outputs": [
    {
     "name": "stdout",
     "text": "Hasil Stopwords : \n\n",
     "output_type": "stream"
    },
    {
     "output_type": "execute_result",
     "execution_count": 15,
     "data": {
      "text/plain": "0    [sekian, covid, mlanda, negri, jd, teringan, f...\n1    [pemerintah, berusaha, semaksimal, memutus, ma...\n2    [senin, kemaren, sy, kehilangan, adik, sydr, s...\n3    [vaksin, vaksin, daya, tahan, tubuh, pencegaha...\n4    [ayo, wujudkan, program, vaksinasi, pemerintah...\nName: Tweet, dtype: object"
     },
     "metadata": {}
    }
   ]
  },
  {
   "cell_type": "markdown",
   "source": "## Stemming",
   "metadata": {
    "id": "h626gUk8xlVC",
    "cell_id": "00024-763a3a90-f900-4f32-8f31-0f996b6a7ddf",
    "deepnote_cell_type": "markdown",
    "deepnote_cell_height": 70
   }
  },
  {
   "cell_type": "code",
   "metadata": {
    "colab": {
     "base_uri": "https://localhost:8080/"
    },
    "id": "XGshEXbVxhte",
    "outputId": "f11b0d61-f684-4b09-f9e9-0e9646652f04",
    "cell_id": "00025-be2055e5-b0fc-4007-b498-b106426861a6",
    "deepnote_to_be_reexecuted": false,
    "source_hash": "8449bfa1",
    "execution_start": 1658887998135,
    "execution_millis": 3004,
    "deepnote_cell_type": "code",
    "deepnote_cell_height": 277
   },
   "source": "!pip install Sastrawi",
   "execution_count": null,
   "outputs": [
    {
     "name": "stdout",
     "text": "Collecting Sastrawi\n  Downloading Sastrawi-1.0.1-py2.py3-none-any.whl (209 kB)\n\u001b[2K     \u001b[90m━━━━━━━━━━━━━━━━━━━━━━━━━━━━━━━━━━━━━━\u001b[0m \u001b[32m209.7/209.7 KB\u001b[0m \u001b[31m35.9 MB/s\u001b[0m eta \u001b[36m0:00:00\u001b[0m\n\u001b[?25hInstalling collected packages: Sastrawi\nSuccessfully installed Sastrawi-1.0.1\n\u001b[33mWARNING: You are using pip version 22.0.4; however, version 22.2 is available.\nYou should consider upgrading via the '/root/venv/bin/python -m pip install --upgrade pip' command.\u001b[0m\u001b[33m\n\u001b[0m",
     "output_type": "stream"
    }
   ]
  },
  {
   "cell_type": "code",
   "metadata": {
    "colab": {
     "base_uri": "https://localhost:8080/",
     "height": 206
    },
    "id": "LKBao6fFxpVI",
    "outputId": "4f681ab3-8e8d-4d70-d5c5-6386cbc9adf3",
    "cell_id": "00026-dcaf2a87-1876-4d86-9ed7-04bd6625a18f",
    "deepnote_to_be_reexecuted": false,
    "source_hash": "f605303d",
    "execution_start": 1658888001148,
    "execution_millis": 1005633,
    "deepnote_cell_type": "code",
    "deepnote_cell_height": 575,
    "deepnote_output_heights": [
     177
    ]
   },
   "source": "# import StemmerFactory class\nfrom Sastrawi.Stemmer.StemmerFactory import StemmerFactory\n# create stemmer\nfactory = StemmerFactory()\nstemmer = factory.create_stemmer()\n# stemming process\ndef stemming(words):\n  return [stemmer.stem(word) for word in words]\n\ndf['Tweet'] = df['Tweet'].apply(stemming)\ndf.head()",
   "execution_count": null,
   "outputs": [
    {
     "output_type": "execute_result",
     "execution_count": 17,
     "data": {
      "application/vnd.deepnote.dataframe.v3+json": {
       "column_count": 2,
       "row_count": 5,
       "columns": [
        {
         "name": "sentimen",
         "dtype": "category",
         "stats": {
          "unique_count": 3,
          "nan_count": 0,
          "categories": [
           {
            "name": "2",
            "count": 2
           },
           {
            "name": "1",
            "count": 2
           },
           {
            "name": "0",
            "count": 1
           }
          ]
         }
        },
        {
         "name": "Tweet",
         "dtype": "object",
         "stats": {
          "unique_count": 5,
          "nan_count": 0,
          "categories": [
           {
            "name": "['sekian', 'covid', 'mlanda', 'negri', 'jd', 'tering', 'film', 'tpi', 'sayang', 'lupa', 'jdulnya', 'inti', 'ddlam', 'alur', 'cerita', 'film', 'sabun', 'sebar', 'sakit', 'wabah', 'negara', 'barang', 'kali', 'ad', 'tau', 'judul', 'jd', 'pgn', 'liat', 'lg']",
            "count": 1
           },
           {
            "name": "['perintah', 'usaha', 'maksimal', 'putus', 'mata', 'rantai', 'virus', 'geram', 'tangan', 'pandemi', 'initinggal', 'kita', 'masyarakat', 'mari', 'bantu', 'perintah', 'salah', 'jaga', 'sehat']",
            "count": 1
           },
           {
            "name": "3 others",
            "count": 3
           }
          ]
         }
        },
        {
         "name": "_deepnote_index_column",
         "dtype": "int64"
        }
       ],
       "rows": [
        {
         "sentimen": 2,
         "Tweet": "['sekian', 'covid', 'mlanda', 'negri', 'jd', 'tering', 'film', 'tpi', 'sayang', 'lupa', 'jdulnya', 'inti', 'ddlam', 'alur', 'cerita', 'film', 'sabun', 'sebar', 'sakit', 'wabah', 'negara', 'barang', 'kali', 'ad', 'tau', 'judul', 'jd', 'pgn', 'liat', 'lg']",
         "_deepnote_index_column": 0
        },
        {
         "sentimen": 1,
         "Tweet": "['perintah', 'usaha', 'maksimal', 'putus', 'mata', 'rantai', 'virus', 'geram', 'tangan', 'pandemi', 'initinggal', 'kita', 'masyarakat', 'mari', 'bantu', 'perintah', 'salah', 'jaga', 'sehat']",
         "_deepnote_index_column": 1
        },
        {
         "sentimen": 0,
         "Tweet": "['senin', 'kemaren', 'sy', 'hilang', 'adik', 'sydr', 'subuh', 'muter', 'bbrp', 'rmh', 'sakit', 'penuh', 'semuaharapan', 'rmh', 'sakit', 'polri', 'jam', 'sembari', 'cari', 'oksigenkerena', 'yg', 'pasang', 'habisjam', 'sore', 'br', 'dapet', 'oksigennamun', 'alloh', 'laenadik', 'sy', 'tinggal', 'mobilsmoga', 'perhati', 'semuakhusus', 'nya', 'dinas', 'kesehatandan', 'kondisi', 'timpa', 'orang']",
         "_deepnote_index_column": 2
        },
        {
         "sentimen": 2,
         "Tweet": "['vaksin', 'vaksin', 'daya', 'tahan', 'tubuh', 'cegah', 'vaksin', 'sakit', 'kendala', 'yg', 'nya', 'skrining', 'periksa', 'jujur', 'jujur', 'nya', 'punga', 'abet', 'bilang', 'ya', 'kendala', 'asma', 'faksin', 'isi', 'format', 'tandatangani', 'orang', 'vaksin']",
         "_deepnote_index_column": 3
        },
        {
         "sentimen": 1,
         "Tweet": "['ayo', 'wujud', 'program', 'vaksinasi', 'perintah', 'sasar', 'sesuai', 'yg', 'rencana', 'lihat', 'tuh', 'sasar', 'vakasinasi', 'lansia', 'muda', 'sehat', 'stop', 'latah', 'ken', 'buru', 'buru', 'vaksin', 'kasihan', 'lansia', 'kitadari', 'target', 'malu', 'wooii']",
         "_deepnote_index_column": 4
        }
       ]
      },
      "text/plain": "  sentimen                                              Tweet\n0        2  [sekian, covid, mlanda, negri, jd, tering, fil...\n1        1  [perintah, usaha, maksimal, putus, mata, ranta...\n2        0  [senin, kemaren, sy, hilang, adik, sydr, subuh...\n3        2  [vaksin, vaksin, daya, tahan, tubuh, cegah, va...\n4        1  [ayo, wujud, program, vaksinasi, perintah, sas...",
      "text/html": "<div>\n<style scoped>\n    .dataframe tbody tr th:only-of-type {\n        vertical-align: middle;\n    }\n\n    .dataframe tbody tr th {\n        vertical-align: top;\n    }\n\n    .dataframe thead th {\n        text-align: right;\n    }\n</style>\n<table border=\"1\" class=\"dataframe\">\n  <thead>\n    <tr style=\"text-align: right;\">\n      <th></th>\n      <th>sentimen</th>\n      <th>Tweet</th>\n    </tr>\n  </thead>\n  <tbody>\n    <tr>\n      <th>0</th>\n      <td>2</td>\n      <td>[sekian, covid, mlanda, negri, jd, tering, fil...</td>\n    </tr>\n    <tr>\n      <th>1</th>\n      <td>1</td>\n      <td>[perintah, usaha, maksimal, putus, mata, ranta...</td>\n    </tr>\n    <tr>\n      <th>2</th>\n      <td>0</td>\n      <td>[senin, kemaren, sy, hilang, adik, sydr, subuh...</td>\n    </tr>\n    <tr>\n      <th>3</th>\n      <td>2</td>\n      <td>[vaksin, vaksin, daya, tahan, tubuh, cegah, va...</td>\n    </tr>\n    <tr>\n      <th>4</th>\n      <td>1</td>\n      <td>[ayo, wujud, program, vaksinasi, perintah, sas...</td>\n    </tr>\n  </tbody>\n</table>\n</div>"
     },
     "metadata": {}
    }
   ]
  },
  {
   "cell_type": "markdown",
   "source": "## Unlisting",
   "metadata": {
    "id": "APViDdQ77Ktc",
    "cell_id": "00027-f91043ad-9362-40e4-89d0-057d5f3f911f",
    "deepnote_cell_type": "markdown",
    "deepnote_cell_height": 70
   }
  },
  {
   "cell_type": "code",
   "metadata": {
    "colab": {
     "base_uri": "https://localhost:8080/",
     "height": 206
    },
    "id": "TpzMzfIRxsOa",
    "outputId": "e7ef2240-99d2-4825-8e00-473abcc15a92",
    "cell_id": "00028-76eacc3e-cb24-4ea3-8a01-19a3212d6854",
    "deepnote_to_be_reexecuted": false,
    "source_hash": "f4c87aa0",
    "execution_start": 1658889006775,
    "execution_millis": 7,
    "deepnote_cell_type": "code",
    "deepnote_cell_height": 413,
    "deepnote_output_heights": [
     177
    ]
   },
   "source": "df['Tweet'] = df['Tweet'].agg(lambda x: ','.join(map(str, x)))\ndf.head()",
   "execution_count": null,
   "outputs": [
    {
     "output_type": "execute_result",
     "execution_count": 18,
     "data": {
      "application/vnd.deepnote.dataframe.v3+json": {
       "column_count": 2,
       "row_count": 5,
       "columns": [
        {
         "name": "sentimen",
         "dtype": "category",
         "stats": {
          "unique_count": 3,
          "nan_count": 0,
          "categories": [
           {
            "name": "2",
            "count": 2
           },
           {
            "name": "1",
            "count": 2
           },
           {
            "name": "0",
            "count": 1
           }
          ]
         }
        },
        {
         "name": "Tweet",
         "dtype": "object",
         "stats": {
          "unique_count": 5,
          "nan_count": 0,
          "categories": [
           {
            "name": "sekian,covid,mlanda,negri,jd,tering,film,tpi,sayang,lupa,jdulnya,inti,ddlam,alur,cerita,film,sabun,sebar,sakit,wabah,negara,barang,kali,ad,tau,judul,jd,pgn,liat,lg",
            "count": 1
           },
           {
            "name": "perintah,usaha,maksimal,putus,mata,rantai,virus,geram,tangan,pandemi,initinggal,kita,masyarakat,mari,bantu,perintah,salah,jaga,sehat",
            "count": 1
           },
           {
            "name": "3 others",
            "count": 3
           }
          ]
         }
        },
        {
         "name": "_deepnote_index_column",
         "dtype": "int64"
        }
       ],
       "rows": [
        {
         "sentimen": 2,
         "Tweet": "sekian,covid,mlanda,negri,jd,tering,film,tpi,sayang,lupa,jdulnya,inti,ddlam,alur,cerita,film,sabun,sebar,sakit,wabah,negara,barang,kali,ad,tau,judul,jd,pgn,liat,lg",
         "_deepnote_index_column": 0
        },
        {
         "sentimen": 1,
         "Tweet": "perintah,usaha,maksimal,putus,mata,rantai,virus,geram,tangan,pandemi,initinggal,kita,masyarakat,mari,bantu,perintah,salah,jaga,sehat",
         "_deepnote_index_column": 1
        },
        {
         "sentimen": 0,
         "Tweet": "senin,kemaren,sy,hilang,adik,sydr,subuh,muter,bbrp,rmh,sakit,penuh,semuaharapan,rmh,sakit,polri,jam,sembari,cari,oksigenkerena,yg,pasang,habisjam,sore,br,dapet,oksigennamun,alloh,laenadik,sy,tinggal,mobilsmoga,perhati,semuakhusus,nya,dinas,kesehatandan,kondisi,timpa,orang",
         "_deepnote_index_column": 2
        },
        {
         "sentimen": 2,
         "Tweet": "vaksin,vaksin,daya,tahan,tubuh,cegah,vaksin,sakit,kendala,yg,nya,skrining,periksa,jujur,jujur,nya,punga,abet,bilang,ya,kendala,asma,faksin,isi,format,tandatangani,orang,vaksin",
         "_deepnote_index_column": 3
        },
        {
         "sentimen": 1,
         "Tweet": "ayo,wujud,program,vaksinasi,perintah,sasar,sesuai,yg,rencana,lihat,tuh,sasar,vakasinasi,lansia,muda,sehat,stop,latah,ken,buru,buru,vaksin,kasihan,lansia,kitadari,target,malu,wooii",
         "_deepnote_index_column": 4
        }
       ]
      },
      "text/plain": "  sentimen                                              Tweet\n0        2  sekian,covid,mlanda,negri,jd,tering,film,tpi,s...\n1        1  perintah,usaha,maksimal,putus,mata,rantai,viru...\n2        0  senin,kemaren,sy,hilang,adik,sydr,subuh,muter,...\n3        2  vaksin,vaksin,daya,tahan,tubuh,cegah,vaksin,sa...\n4        1  ayo,wujud,program,vaksinasi,perintah,sasar,ses...",
      "text/html": "<div>\n<style scoped>\n    .dataframe tbody tr th:only-of-type {\n        vertical-align: middle;\n    }\n\n    .dataframe tbody tr th {\n        vertical-align: top;\n    }\n\n    .dataframe thead th {\n        text-align: right;\n    }\n</style>\n<table border=\"1\" class=\"dataframe\">\n  <thead>\n    <tr style=\"text-align: right;\">\n      <th></th>\n      <th>sentimen</th>\n      <th>Tweet</th>\n    </tr>\n  </thead>\n  <tbody>\n    <tr>\n      <th>0</th>\n      <td>2</td>\n      <td>sekian,covid,mlanda,negri,jd,tering,film,tpi,s...</td>\n    </tr>\n    <tr>\n      <th>1</th>\n      <td>1</td>\n      <td>perintah,usaha,maksimal,putus,mata,rantai,viru...</td>\n    </tr>\n    <tr>\n      <th>2</th>\n      <td>0</td>\n      <td>senin,kemaren,sy,hilang,adik,sydr,subuh,muter,...</td>\n    </tr>\n    <tr>\n      <th>3</th>\n      <td>2</td>\n      <td>vaksin,vaksin,daya,tahan,tubuh,cegah,vaksin,sa...</td>\n    </tr>\n    <tr>\n      <th>4</th>\n      <td>1</td>\n      <td>ayo,wujud,program,vaksinasi,perintah,sasar,ses...</td>\n    </tr>\n  </tbody>\n</table>\n</div>"
     },
     "metadata": {}
    }
   ]
  },
  {
   "cell_type": "markdown",
   "source": "### Remove Blank Text",
   "metadata": {
    "formattedRanges": [],
    "cell_id": "be040fffa6904d6d924b509f7f788e6a",
    "tags": [],
    "is_collapsed": false,
    "deepnote_cell_type": "text-cell-h3"
   }
  },
  {
   "cell_type": "code",
   "metadata": {
    "cell_id": "99fc1e5c7db84c9cbcd88ecb7e468945",
    "tags": [],
    "deepnote_to_be_reexecuted": false,
    "source_hash": "9ad16c2b",
    "execution_start": 1658889909879,
    "execution_millis": 4,
    "deepnote_cell_type": "code",
    "deepnote_cell_height": 81
   },
   "source": "df = df[df['Tweet'] != '']",
   "execution_count": null,
   "outputs": []
  },
  {
   "cell_type": "markdown",
   "source": "## Export Dataset (Optional)",
   "metadata": {
    "id": "PwJDHaTr7UkB",
    "cell_id": "00029-5fb96ca0-97b4-4f73-a41c-426115e1d381",
    "deepnote_cell_type": "markdown",
    "deepnote_cell_height": 70
   }
  },
  {
   "cell_type": "code",
   "metadata": {
    "id": "tfMf4aaH7Trt",
    "cell_id": "00030-9d69e20e-6fd4-43f7-89df-549a04ba21f6",
    "deepnote_to_be_reexecuted": false,
    "source_hash": "a44eeda5",
    "execution_start": 1658889917326,
    "execution_millis": 74,
    "deepnote_cell_type": "code",
    "deepnote_cell_height": 81
   },
   "source": "df.to_excel('data tweet1a clean.xlsx', index=False)",
   "execution_count": null,
   "outputs": []
  },
  {
   "cell_type": "markdown",
   "source": "# **Check Imbalance**",
   "metadata": {
    "id": "xECJpZX77jEA",
    "cell_id": "00031-4d793cbe-9b3e-423b-b4f5-3e71d052053b",
    "deepnote_cell_type": "markdown",
    "deepnote_cell_height": 82
   }
  },
  {
   "cell_type": "code",
   "metadata": {
    "colab": {
     "base_uri": "https://localhost:8080/"
    },
    "id": "CyuLW2mA7fKD",
    "outputId": "8ff2d15a-6509-43ca-e03f-4f8ef8c5a7ec",
    "cell_id": "00032-a986f4e8-2f48-401e-86de-233983f80d66",
    "deepnote_to_be_reexecuted": false,
    "source_hash": "b3b4a938",
    "execution_start": 1658889917965,
    "execution_millis": 763,
    "deepnote_cell_type": "code",
    "deepnote_cell_height": 175.78125,
    "deepnote_output_heights": [
     78.796875
    ]
   },
   "source": "df['sentimen'].value_counts()",
   "execution_count": null,
   "outputs": [
    {
     "output_type": "execute_result",
     "execution_count": 60,
     "data": {
      "text/plain": "2    1234\n1     692\n0     499\nName: sentimen, dtype: int64"
     },
     "metadata": {}
    }
   ]
  },
  {
   "cell_type": "markdown",
   "source": "# **Model Preparation**",
   "metadata": {
    "id": "oP38j36n7oPE",
    "cell_id": "00033-12003d06-f996-4171-b6da-427b0d8df00c",
    "deepnote_cell_type": "markdown",
    "deepnote_cell_height": 82
   }
  },
  {
   "cell_type": "markdown",
   "source": "## TF-IDF Vectorization",
   "metadata": {
    "id": "GEmJBRLu7txj",
    "cell_id": "00034-585bf523-9a90-4920-a18d-8f42ae939ba5",
    "deepnote_cell_type": "markdown",
    "deepnote_cell_height": 70
   }
  },
  {
   "cell_type": "code",
   "metadata": {
    "id": "PQJQjdc27nN-",
    "cell_id": "00035-ffeaa2f5-eaef-485e-b380-2ca3c5d5b90a",
    "deepnote_to_be_reexecuted": false,
    "source_hash": "2787b33f",
    "execution_start": 1658889006954,
    "execution_millis": 0,
    "deepnote_cell_type": "code",
    "deepnote_cell_height": 135
   },
   "source": "# from sklearn.feature_extraction.text import TfidfVectorizer\n# cv = TfidfVectorizer()\n# X = cv.fit_transform(df['Tweet'].astype('U')).toarray()\n# y = df['sentimen'].values",
   "execution_count": null,
   "outputs": []
  },
  {
   "cell_type": "markdown",
   "source": "## Split Dataset & TF-IDF Vectorization",
   "metadata": {
    "id": "93xVlNC479OY",
    "cell_id": "00036-1580f21e-f3b5-4533-9c0b-4dc827c94557",
    "deepnote_cell_type": "markdown",
    "deepnote_cell_height": 70
   }
  },
  {
   "cell_type": "code",
   "metadata": {
    "id": "xLoXeYie78Qm",
    "cell_id": "00037-39f074bd-0b1a-47f9-b0bc-eda90f73d1bb",
    "deepnote_to_be_reexecuted": false,
    "source_hash": "8bfe81b5",
    "execution_start": 1658889925320,
    "execution_millis": 167,
    "deepnote_cell_type": "code",
    "deepnote_cell_height": 243
   },
   "source": "from sklearn.model_selection import train_test_split\nfrom sklearn.feature_extraction.text import TfidfVectorizer\ncv = TfidfVectorizer()\n\nX = df['Tweet']\ny = df['sentimen']\n\nX_train, X_test, y_train, y_test = train_test_split(X, y, test_size = 0.2, random_state = 42)\nxv_train = cv.fit_transform(X_train)\nxv_test = cv.transform(X_test)",
   "execution_count": null,
   "outputs": []
  },
  {
   "cell_type": "markdown",
   "source": "# **Modelling with Naive Bayes**",
   "metadata": {
    "id": "UUJKmNHN8Cdx",
    "cell_id": "00038-eee40513-39e5-466e-a6af-06dfcbf52c2b",
    "deepnote_cell_type": "markdown",
    "deepnote_cell_height": 82
   }
  },
  {
   "cell_type": "markdown",
   "source": "## Create & Train Model",
   "metadata": {
    "id": "vdZZS8iR8G1c",
    "cell_id": "00039-fb7b6aa0-2cdc-4711-8796-3ec2f9432ecc",
    "deepnote_cell_type": "markdown",
    "deepnote_cell_height": 70
   }
  },
  {
   "cell_type": "code",
   "metadata": {
    "colab": {
     "base_uri": "https://localhost:8080/"
    },
    "id": "mpIkimMn8FPJ",
    "outputId": "92b95fd1-2f63-4acb-949e-bf7851cc3872",
    "cell_id": "00040-a52cde37-8342-42f2-9c85-d911addfb48e",
    "deepnote_to_be_reexecuted": false,
    "source_hash": "86d8df13",
    "execution_start": 1658890452383,
    "execution_millis": 749,
    "deepnote_cell_type": "code",
    "deepnote_cell_height": 193.375,
    "deepnote_output_heights": [
     60.390625
    ]
   },
   "source": "from sklearn.naive_bayes import MultinomialNB\nclassifier = MultinomialNB(class_prior=[0.9, 0.8, 0.7])\nclassifier.fit(xv_train, y_train)",
   "execution_count": null,
   "outputs": [
    {
     "output_type": "execute_result",
     "execution_count": 83,
     "data": {
      "text/plain": "MultinomialNB(class_prior=[0.9, 0.8, 0.7])",
      "text/html": "<style>#sk-container-id-9 {color: black;background-color: white;}#sk-container-id-9 pre{padding: 0;}#sk-container-id-9 div.sk-toggleable {background-color: white;}#sk-container-id-9 label.sk-toggleable__label {cursor: pointer;display: block;width: 100%;margin-bottom: 0;padding: 0.3em;box-sizing: border-box;text-align: center;}#sk-container-id-9 label.sk-toggleable__label-arrow:before {content: \"▸\";float: left;margin-right: 0.25em;color: #696969;}#sk-container-id-9 label.sk-toggleable__label-arrow:hover:before {color: black;}#sk-container-id-9 div.sk-estimator:hover label.sk-toggleable__label-arrow:before {color: black;}#sk-container-id-9 div.sk-toggleable__content {max-height: 0;max-width: 0;overflow: hidden;text-align: left;background-color: #f0f8ff;}#sk-container-id-9 div.sk-toggleable__content pre {margin: 0.2em;color: black;border-radius: 0.25em;background-color: #f0f8ff;}#sk-container-id-9 input.sk-toggleable__control:checked~div.sk-toggleable__content {max-height: 200px;max-width: 100%;overflow: auto;}#sk-container-id-9 input.sk-toggleable__control:checked~label.sk-toggleable__label-arrow:before {content: \"▾\";}#sk-container-id-9 div.sk-estimator input.sk-toggleable__control:checked~label.sk-toggleable__label {background-color: #d4ebff;}#sk-container-id-9 div.sk-label input.sk-toggleable__control:checked~label.sk-toggleable__label {background-color: #d4ebff;}#sk-container-id-9 input.sk-hidden--visually {border: 0;clip: rect(1px 1px 1px 1px);clip: rect(1px, 1px, 1px, 1px);height: 1px;margin: -1px;overflow: hidden;padding: 0;position: absolute;width: 1px;}#sk-container-id-9 div.sk-estimator {font-family: monospace;background-color: #f0f8ff;border: 1px dotted black;border-radius: 0.25em;box-sizing: border-box;margin-bottom: 0.5em;}#sk-container-id-9 div.sk-estimator:hover {background-color: #d4ebff;}#sk-container-id-9 div.sk-parallel-item::after {content: \"\";width: 100%;border-bottom: 1px solid gray;flex-grow: 1;}#sk-container-id-9 div.sk-label:hover label.sk-toggleable__label {background-color: #d4ebff;}#sk-container-id-9 div.sk-serial::before {content: \"\";position: absolute;border-left: 1px solid gray;box-sizing: border-box;top: 0;bottom: 0;left: 50%;z-index: 0;}#sk-container-id-9 div.sk-serial {display: flex;flex-direction: column;align-items: center;background-color: white;padding-right: 0.2em;padding-left: 0.2em;position: relative;}#sk-container-id-9 div.sk-item {position: relative;z-index: 1;}#sk-container-id-9 div.sk-parallel {display: flex;align-items: stretch;justify-content: center;background-color: white;position: relative;}#sk-container-id-9 div.sk-item::before, #sk-container-id-9 div.sk-parallel-item::before {content: \"\";position: absolute;border-left: 1px solid gray;box-sizing: border-box;top: 0;bottom: 0;left: 50%;z-index: -1;}#sk-container-id-9 div.sk-parallel-item {display: flex;flex-direction: column;z-index: 1;position: relative;background-color: white;}#sk-container-id-9 div.sk-parallel-item:first-child::after {align-self: flex-end;width: 50%;}#sk-container-id-9 div.sk-parallel-item:last-child::after {align-self: flex-start;width: 50%;}#sk-container-id-9 div.sk-parallel-item:only-child::after {width: 0;}#sk-container-id-9 div.sk-dashed-wrapped {border: 1px dashed gray;margin: 0 0.4em 0.5em 0.4em;box-sizing: border-box;padding-bottom: 0.4em;background-color: white;}#sk-container-id-9 div.sk-label label {font-family: monospace;font-weight: bold;display: inline-block;line-height: 1.2em;}#sk-container-id-9 div.sk-label-container {text-align: center;}#sk-container-id-9 div.sk-container {/* jupyter's `normalize.less` sets `[hidden] { display: none; }` but bootstrap.min.css set `[hidden] { display: none !important; }` so we also need the `!important` here to be able to override the default hidden behavior on the sphinx rendered scikit-learn.org. See: https://github.com/scikit-learn/scikit-learn/issues/21755 */display: inline-block !important;position: relative;}#sk-container-id-9 div.sk-text-repr-fallback {display: none;}</style><div id=\"sk-container-id-9\" class=\"sk-top-container\"><div class=\"sk-text-repr-fallback\"><pre>MultinomialNB(class_prior=[0.9, 0.8, 0.7])</pre><b>In a Jupyter environment, please rerun this cell to show the HTML representation or trust the notebook. <br />On GitHub, the HTML representation is unable to render, please try loading this page with nbviewer.org.</b></div><div class=\"sk-container\" hidden><div class=\"sk-item\"><div class=\"sk-estimator sk-toggleable\"><input class=\"sk-toggleable__control sk-hidden--visually\" id=\"sk-estimator-id-9\" type=\"checkbox\" checked><label for=\"sk-estimator-id-9\" class=\"sk-toggleable__label sk-toggleable__label-arrow\">MultinomialNB</label><div class=\"sk-toggleable__content\"><pre>MultinomialNB(class_prior=[0.9, 0.8, 0.7])</pre></div></div></div></div></div>"
     },
     "metadata": {}
    }
   ]
  },
  {
   "cell_type": "markdown",
   "source": "## Predict X Test",
   "metadata": {
    "id": "oACcREMV8N5D",
    "cell_id": "00041-daaba1ab-13cf-41f6-8905-093403580af4",
    "deepnote_cell_type": "markdown",
    "deepnote_cell_height": 70
   }
  },
  {
   "cell_type": "code",
   "metadata": {
    "id": "pn6vINNp8A-z",
    "cell_id": "00042-bf5df856-3157-4463-a063-22b853791b21",
    "deepnote_to_be_reexecuted": false,
    "source_hash": "bb7f9f55",
    "execution_start": 1658890456430,
    "execution_millis": 3,
    "deepnote_cell_type": "code",
    "deepnote_cell_height": 81
   },
   "source": "y_pred = classifier.predict(xv_test)",
   "execution_count": null,
   "outputs": []
  },
  {
   "cell_type": "markdown",
   "source": "# **Evaluasi Model**",
   "metadata": {
    "id": "LUhgENye8XGl",
    "cell_id": "00044-6024ce12-23ac-481e-9c88-b79b54d221b5",
    "deepnote_cell_type": "markdown",
    "deepnote_cell_height": 82
   }
  },
  {
   "cell_type": "markdown",
   "source": "## Akurasi Model",
   "metadata": {
    "id": "ywYeJhH98VC5",
    "cell_id": "00045-c7fdd3c5-41bc-44a8-a1e9-8ccfd2146677",
    "deepnote_cell_type": "markdown",
    "deepnote_cell_height": 70
   }
  },
  {
   "cell_type": "code",
   "metadata": {
    "colab": {
     "base_uri": "https://localhost:8080/"
    },
    "id": "ZjdDGL5F8Um3",
    "outputId": "1a323de6-30b5-483f-b36e-610c9a94d1c2",
    "cell_id": "00046-b08fde4a-7c37-480a-b56c-23305ff89d17",
    "deepnote_to_be_reexecuted": false,
    "source_hash": "8a090e95",
    "execution_start": 1658890459132,
    "execution_millis": 10,
    "deepnote_cell_type": "code",
    "deepnote_cell_height": 148
   },
   "source": "from sklearn.metrics import accuracy_score\nacc = round(accuracy_score(y_test, y_pred),2)\nprint(str(round(acc*100,2)) + ' %')",
   "execution_count": null,
   "outputs": [
    {
     "name": "stdout",
     "text": "67.0 %\n",
     "output_type": "stream"
    }
   ]
  },
  {
   "cell_type": "markdown",
   "source": "## Classification Report",
   "metadata": {
    "id": "CMfGnsGJ8eiT",
    "cell_id": "00047-b90aca14-a526-4fac-9d6b-f50c311ebb47",
    "deepnote_cell_type": "markdown",
    "deepnote_cell_height": 70
   }
  },
  {
   "cell_type": "code",
   "metadata": {
    "colab": {
     "base_uri": "https://localhost:8080/"
    },
    "id": "CvtZBvzb8cKQ",
    "outputId": "ac3b097b-4977-429e-fe89-b1d4d84ee063",
    "cell_id": "00048-da44a815-f369-4e86-8bd4-415d75984f8d",
    "deepnote_to_be_reexecuted": false,
    "source_hash": "c560c00e",
    "execution_start": 1658890462216,
    "execution_millis": 9,
    "deepnote_cell_type": "code",
    "deepnote_cell_height": 328
   },
   "source": "from sklearn.metrics import classification_report\n# print classification report\nprint(classification_report(y_test, y_pred))",
   "execution_count": null,
   "outputs": [
    {
     "name": "stdout",
     "text": "              precision    recall  f1-score   support\n\n           0       0.42      0.15      0.23        84\n           1       0.74      0.61      0.67       161\n           2       0.66      0.89      0.76       240\n\n    accuracy                           0.67       485\n   macro avg       0.61      0.55      0.55       485\nweighted avg       0.65      0.67      0.64       485\n\n",
     "output_type": "stream"
    }
   ]
  },
  {
   "cell_type": "markdown",
   "source": "## Confusion Matrix",
   "metadata": {
    "id": "JqMNn-OJ8l5s",
    "cell_id": "00049-a9845a2f-09e5-4a61-85f8-d63792465dc9",
    "deepnote_cell_type": "markdown",
    "deepnote_cell_height": 70
   }
  },
  {
   "cell_type": "code",
   "metadata": {
    "colab": {
     "base_uri": "https://localhost:8080/",
     "height": 297
    },
    "id": "NtAhQXTw8gn6",
    "outputId": "c378e604-fd25-4cbe-eb9f-5730cacb5672",
    "cell_id": "00050-8376b36e-16da-4df8-bffb-463ba1144752",
    "deepnote_to_be_reexecuted": false,
    "source_hash": "63c4d2e6",
    "execution_start": 1658890466269,
    "execution_millis": 401,
    "deepnote_cell_type": "code",
    "deepnote_cell_height": 449,
    "deepnote_output_heights": [
     21,
     264
    ]
   },
   "source": "from sklearn.metrics import plot_confusion_matrix\n\nplot_confusion_matrix(classifier, xv_test, y_test)",
   "execution_count": null,
   "outputs": [
    {
     "output_type": "execute_result",
     "execution_count": 87,
     "data": {
      "text/plain": "<sklearn.metrics._plot.confusion_matrix.ConfusionMatrixDisplay at 0x7fc950a3ffd0>"
     },
     "metadata": {}
    },
    {
     "data": {
      "text/plain": "<Figure size 432x288 with 2 Axes>",
      "image/png": "[encoded data removed]"
     },
     "metadata": {
      "needs_background": "light",
      "image/png": {
       "width": 312,
       "height": 262
      }
     },
     "output_type": "display_data"
    }
   ]
  },
  {
   "cell_type": "markdown",
   "source": "# **Save Model**",
   "metadata": {
    "id": "HPJ7W2oTgf01",
    "cell_id": "00051-1e7e1e55-cf51-456f-8dae-cc3d986a3cb3",
    "deepnote_cell_type": "markdown",
    "deepnote_cell_height": 82
   }
  },
  {
   "cell_type": "code",
   "metadata": {
    "id": "PNyDYanv8ptq",
    "cell_id": "00052-ac629ccd-0931-4f43-b921-e53b848b2ebe",
    "deepnote_to_be_reexecuted": false,
    "source_hash": "c9e184d9",
    "execution_start": 1658890477760,
    "execution_millis": 5,
    "deepnote_cell_type": "code",
    "deepnote_cell_height": 135
   },
   "source": "import pickle as pkl\n\nfilename = 'finalized_model_naivebayes.sav'\npkl.dump(classifier, open(filename, 'wb'))",
   "execution_count": null,
   "outputs": []
  },
  {
   "cell_type": "code",
   "metadata": {
    "id": "05lxWdDJViwe",
    "cell_id": "00053-054a4b74-d05e-43e4-8275-eb5cba39a66e",
    "deepnote_to_be_reexecuted": false,
    "source_hash": "e0532575",
    "execution_start": 1658890026526,
    "execution_millis": 9,
    "deepnote_cell_type": "code",
    "deepnote_cell_height": 81
   },
   "source": "pkl.dump(cv, open(\"vectorizer.pickle\", \"wb\"))",
   "execution_count": null,
   "outputs": []
  },
  {
   "cell_type": "code",
   "metadata": {
    "cell_id": "8cbaf4d4755f494ebcffc5b74653c946",
    "tags": [],
    "deepnote_to_be_reexecuted": false,
    "source_hash": "a199411d",
    "execution_start": 1658890405102,
    "execution_millis": 2,
    "owner_user_id": "52a86c4f-25ca-4e18-a348-5e79d6776939",
    "deepnote_cell_type": "code",
    "deepnote_cell_height": 600
   },
   "source": "df[df['sentimen'] == 0]",
   "execution_count": null,
   "outputs": [
    {
     "output_type": "execute_result",
     "execution_count": 82,
     "data": {
      "application/vnd.deepnote.dataframe.v3+json": {
       "column_count": 2,
       "row_count": 499,
       "columns": [
        {
         "name": "sentimen",
         "dtype": "category",
         "stats": {
          "unique_count": 1,
          "nan_count": 0,
          "categories": [
           {
            "name": "0",
            "count": 499
           }
          ]
         }
        },
        {
         "name": "Tweet",
         "dtype": "object",
         "stats": {
          "unique_count": 495,
          "nan_count": 0,
          "categories": [
           {
            "name": "semangat,pikir,positif,doa,moga,pandemi,cepat,berakhirterutama,medis,korban,jasa,garda,moga,allah,lindung,amin",
            "count": 3
           },
           {
            "name": "semangat,pikir,positif,doa,moga,pandemi,cepat,berakhirterutama,pahlawan,tanda,jasa,tenaga,medis,sungguh,korban,jasa,garda,moga,allah,lindung,amin",
            "count": 2
           },
           {
            "name": "493 others",
            "count": 494
           }
          ]
         }
        },
        {
         "name": "_deepnote_index_column",
         "dtype": "int64"
        }
       ],
       "rows": [
        {
         "sentimen": 0,
         "Tweet": "senin,kemaren,sy,hilang,adik,sydr,subuh,muter,bbrp,rmh,sakit,penuh,semuaharapan,rmh,sakit,polri,jam,sembari,cari,oksigenkerena,yg,pasang,habisjam,sore,br,dapet,oksigennamun,alloh,laenadik,sy,tinggal,mobilsmoga,perhati,semuakhusus,nya,dinas,kesehatandan,kondisi,timpa,orang",
         "_deepnote_index_column": 2
        },
        {
         "sentimen": 0,
         "Tweet": "sy,klo,cm,flu,gk,butuh,minum,obat,obat,sakit,sy,klo,flu,makan,bakso,ksih,lombok,tumis,sendok,hbis,makan,jngan,minum,yg,trhubung,tht,akn,ledak,gara,lombok,tumis",
         "_deepnote_index_column": 6
        },
        {
         "sentimen": 0,
         "Tweet": "alhamdulillah,moga,keluarga,sehat,inti,nya,jgn,ampe,stress,panik",
         "_deepnote_index_column": 7
        },
        {
         "sentimen": 0,
         "Tweet": "mudah,normal,ammiinn",
         "_deepnote_index_column": 8
        },
        {
         "sentimen": 0,
         "Tweet": "jg,lebaran,kmrn,demam,panas,dingin,gk,selera,mkn,lidah,pahit,sy,cm,minum,antangin,hr,sy,sembuh,aroma,cium,hilang,sm,gk,cium,lidah,sy,jg,klu,makan,gk,cm,sy,rajin,minum,air,rebus,jahe,sm,serai,tp,sy,gk,periksa,kerumh,sakitklu,sy,kermh,sakit,bilang,positiftp,alhamdulillah,setelh,hr,nya,normal,kembalitetangga,sy,jg,puasa,kmrn,ngalamin,itutp,alhamdulillah,gk,yg,mati",
         "_deepnote_index_column": 9
        },
        {
         "sentimen": 0,
         "Tweet": "bettul,bu,klau,kena,gejala,seprti,alami,alami,masyarakat,beda,hati,panik,ngak,klau,tenang,ngak,panik,tanganin,klau,panik,pikir,rumah,sakit",
         "_deepnote_index_column": 10
        },
        {
         "sentimen": 0,
         "Tweet": "isoman,gak,moga,isoman,tuju,tekan,laju,sebar,virus",
         "_deepnote_index_column": 11
        },
        {
         "sentimen": 0,
         "Tweet": "alami,ituutapi,percaya,malas,tau,jln,truss,normal",
         "_deepnote_index_column": 12
        },
        {
         "sentimen": 0,
         "Tweet": "mata,orang,kotak,susu,mata,kunci,kabur,kupas,keluar,film,tipis,bersih,diam,diam,tempel,kunci,rahasia,sel,jaga,tekan,kode,jari,tekan,tombol,lambai,film,angka,kunci,kombinasi,coba,sandi,sentuh,kunci,remas,kertas,toilet,bola,bola,remas,pasta,gigi,nya,kertas,kado,remas,encang,bola,bundar,rekat,jaga,bantu,lepas,borgol,pasu,lubang,jendela,sipir,kunci,jendela,buka,jendela,ulur,tangan,coba,sandi,kali,laku,cepat,cegah,kamera,tangkap,pertamatama,yg,jaga,dengar,suara,suara,pintu,buka,tutup,jaga,bawa,nya,sel,obrol,rokok,menit,kamera,awas,celah,yg,cari",
         "_deepnote_index_column": 14
        },
        {
         "sentimen": 0,
         "Tweet": "terimakasih,spbu,isi,bahan,bakar,nol,terima,uang,beda,tangan,pakai,baju,lindung,masker,sehat",
         "_deepnote_index_column": 20
        }
       ]
      },
      "text/plain": "     sentimen                                              Tweet\n2           0  senin,kemaren,sy,hilang,adik,sydr,subuh,muter,...\n6           0  sy,klo,cm,flu,gk,butuh,minum,obat,obat,sakit,s...\n7           0  alhamdulillah,moga,keluarga,sehat,inti,nya,jgn...\n8           0                               mudah,normal,ammiinn\n9           0  jg,lebaran,kmrn,demam,panas,dingin,gk,selera,m...\n...       ...                                                ...\n2404        0  jarum,vaksin,orang,ganti,klau,jarum,vaksin,gan...\n2413        0  ra,gagas,corona,ra,barang,miskin,gatek,ne,koro...\n2414        0  alam,semesta,jin,jun,jenis,nya,laut,udara,lupu...\n2416        0     cekik,ustadz,rebut,mic,mushola,nyebarin,berita\n2421        0  vaksin,macem,tuh,harga,beda,beda,nya,vaksin,ma...\n\n[499 rows x 2 columns]",
      "text/html": "<div>\n<style scoped>\n    .dataframe tbody tr th:only-of-type {\n        vertical-align: middle;\n    }\n\n    .dataframe tbody tr th {\n        vertical-align: top;\n    }\n\n    .dataframe thead th {\n        text-align: right;\n    }\n</style>\n<table border=\"1\" class=\"dataframe\">\n  <thead>\n    <tr style=\"text-align: right;\">\n      <th></th>\n      <th>sentimen</th>\n      <th>Tweet</th>\n    </tr>\n  </thead>\n  <tbody>\n    <tr>\n      <th>2</th>\n      <td>0</td>\n      <td>senin,kemaren,sy,hilang,adik,sydr,subuh,muter,...</td>\n    </tr>\n    <tr>\n      <th>6</th>\n      <td>0</td>\n      <td>sy,klo,cm,flu,gk,butuh,minum,obat,obat,sakit,s...</td>\n    </tr>\n    <tr>\n      <th>7</th>\n      <td>0</td>\n      <td>alhamdulillah,moga,keluarga,sehat,inti,nya,jgn...</td>\n    </tr>\n    <tr>\n      <th>8</th>\n      <td>0</td>\n      <td>mudah,normal,ammiinn</td>\n    </tr>\n    <tr>\n      <th>9</th>\n      <td>0</td>\n      <td>jg,lebaran,kmrn,demam,panas,dingin,gk,selera,m...</td>\n    </tr>\n    <tr>\n      <th>...</th>\n      <td>...</td>\n      <td>...</td>\n    </tr>\n    <tr>\n      <th>2404</th>\n      <td>0</td>\n      <td>jarum,vaksin,orang,ganti,klau,jarum,vaksin,gan...</td>\n    </tr>\n    <tr>\n      <th>2413</th>\n      <td>0</td>\n      <td>ra,gagas,corona,ra,barang,miskin,gatek,ne,koro...</td>\n    </tr>\n    <tr>\n      <th>2414</th>\n      <td>0</td>\n      <td>alam,semesta,jin,jun,jenis,nya,laut,udara,lupu...</td>\n    </tr>\n    <tr>\n      <th>2416</th>\n      <td>0</td>\n      <td>cekik,ustadz,rebut,mic,mushola,nyebarin,berita</td>\n    </tr>\n    <tr>\n      <th>2421</th>\n      <td>0</td>\n      <td>vaksin,macem,tuh,harga,beda,beda,nya,vaksin,ma...</td>\n    </tr>\n  </tbody>\n</table>\n<p>499 rows × 2 columns</p>\n</div>"
     },
     "metadata": {}
    }
   ]
  },
  {
   "cell_type": "code",
   "metadata": {
    "cell_id": "c23e9405be0c4e76bdf637e41cfa0fa2",
    "tags": [],
    "deepnote_cell_type": "code",
    "deepnote_cell_height": 66
   },
   "source": "",
   "execution_count": null,
   "outputs": []
  },
  {
   "cell_type": "markdown",
   "source": "<a style='text-decoration:none;line-height:16px;display:flex;color:#5B5B62;padding:10px;justify-content:end;' href='https://deepnote.com?utm_source=created-in-deepnote-cell&projectId=e89ff246-92db-441e-a8ed-3b6dd8856a37' target=\"_blank\">\n<img alt='Created in deepnote.com' style='display:inline;max-height:16px;margin:0px;margin-right:7.5px;' src='data:image/svg+xml;base64,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' > </img>\nCreated in <span style='font-weight:600;margin-left:4px;'>Deepnote</span></a>",
   "metadata": {
    "tags": [],
    "created_in_deepnote_cell": true,
    "deepnote_cell_type": "markdown"
   }
  }
 ],
 "nbformat": 4,
 "nbformat_minor": 0,
 "metadata": {
  "colab": {
   "collapsed_sections": [],
   "name": "CLIENT - NAIVE BAYES SENTIMENT",
   "provenance": []
  },
  "kernelspec": {
   "display_name": "Python 3",
   "name": "python3"
  },
  "language_info": {
   "name": "python"
  },
  "deepnote_notebook_id": "e3a64a1d-96dd-415a-839c-797d8f1ecbcb",
  "deepnote": {},
  "deepnote_execution_queue": []
 }
}